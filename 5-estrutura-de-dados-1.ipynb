{
 "cells": [
  {
   "cell_type": "markdown",
   "metadata": {},
   "source": [
    "### **Análise de dados com Python e Pandas**"
   ]
  },
  {
   "cell_type": "code",
   "execution_count": 1,
   "metadata": {},
   "outputs": [
    {
     "data": {
      "text/plain": [
       "['cachorro', 'gato', 12345, 6]"
      ]
     },
     "execution_count": 1,
     "metadata": {},
     "output_type": "execute_result"
    }
   ],
   "source": [
    "# criando uma lista\n",
    "lista = ['cachorro','gato',12345,6]\n",
    "lista"
   ]
  },
  {
   "cell_type": "code",
   "execution_count": 2,
   "metadata": {},
   "outputs": [
    {
     "data": {
      "text/plain": [
       "['papagaio', 'gato', 12345, 6]"
      ]
     },
     "execution_count": 2,
     "metadata": {},
     "output_type": "execute_result"
    }
   ],
   "source": [
    "# trocando um elementos da lista\n",
    "lista[0] = 'papagaio'\n",
    "lista"
   ]
  },
  {
   "cell_type": "code",
   "execution_count": 4,
   "metadata": {},
   "outputs": [
    {
     "data": {
      "text/plain": [
       "4"
      ]
     },
     "execution_count": 4,
     "metadata": {},
     "output_type": "execute_result"
    }
   ],
   "source": [
    "#contando o número de elementos na lista\n",
    "len(lista)"
   ]
  },
  {
   "cell_type": "code",
   "execution_count": 7,
   "metadata": {},
   "outputs": [
    {
     "name": "stdout",
     "output_type": "stream",
     "text": [
      "True\n",
      "False\n"
     ]
    }
   ],
   "source": [
    "# verificar se um elemento esta em uma lista\n",
    "\n",
    "a = 'gato' in lista\n",
    "print(a)\n",
    "\n",
    "b = 'tucano' in lista\n",
    "print(b)"
   ]
  },
  {
   "cell_type": "code",
   "execution_count": 10,
   "metadata": {},
   "outputs": [
    {
     "data": {
      "text/plain": [
       "['papagaio', 'gato', 12345, 6, 'leão']"
      ]
     },
     "execution_count": 10,
     "metadata": {},
     "output_type": "execute_result"
    }
   ],
   "source": [
    "# adicionando um elemento a lista\n",
    "lista.append('leão')\n",
    "lista"
   ]
  },
  {
   "cell_type": "code",
   "execution_count": 11,
   "metadata": {},
   "outputs": [
    {
     "data": {
      "text/plain": [
       "['papagaio', 'gato', 12345, 6, 'leão', 'cobra', 88]"
      ]
     },
     "execution_count": 11,
     "metadata": {},
     "output_type": "execute_result"
    }
   ],
   "source": [
    "# adicionando mais de um elemento a lista\n",
    "lista.extend(['cobra',88])\n",
    "lista"
   ]
  },
  {
   "cell_type": "code",
   "execution_count": 16,
   "metadata": {},
   "outputs": [
    {
     "data": {
      "text/plain": [
       "1"
      ]
     },
     "execution_count": 16,
     "metadata": {},
     "output_type": "execute_result"
    }
   ],
   "source": [
    "# contar quantas vezes tem um elemento dentro de uma lista\n",
    "lista.count('gato')"
   ]
  },
  {
   "cell_type": "code",
   "execution_count": 19,
   "metadata": {},
   "outputs": [
    {
     "data": {
      "text/plain": [
       "10000"
      ]
     },
     "execution_count": 19,
     "metadata": {},
     "output_type": "execute_result"
    }
   ],
   "source": [
    "numeros = [1, 2, 3, 5, 10000, 10, 100, 5000]\n",
    "a = max(numeros)\n",
    "a\n"
   ]
  },
  {
   "cell_type": "code",
   "execution_count": 20,
   "metadata": {},
   "outputs": [
    {
     "data": {
      "text/plain": [
       "[1, 2, 3, 5, 10, 100, 5000, 10000]"
      ]
     },
     "execution_count": 20,
     "metadata": {},
     "output_type": "execute_result"
    }
   ],
   "source": [
    "#ordenar uma lista\n",
    "numeros.sort()\n",
    "numeros"
   ]
  },
  {
   "cell_type": "markdown",
   "metadata": {},
   "source": [
    "### **Tuplas**"
   ]
  },
  {
   "cell_type": "code",
   "execution_count": null,
   "metadata": {},
   "outputs": [],
   "source": [
    "# tuplas usam parenteses\n",
    "# são imutaveis, não podem ser alteradas\n",
    "tp = ('banana', 'maça', 10, 50)"
   ]
  },
  {
   "cell_type": "markdown",
   "metadata": {},
   "source": [
    "### **Dicionários**\n",
    "\n",
    "utizamos chaves\n",
    "\n",
    "como elementos temos as **chaves** e os **valores**"
   ]
  },
  {
   "cell_type": "code",
   "execution_count": 29,
   "metadata": {},
   "outputs": [
    {
     "name": "stdout",
     "output_type": "stream",
     "text": [
      "{'Maçã': 20, 'Banana': 10, 'Laranja': 15, 'Uva': 15}\n"
     ]
    }
   ],
   "source": [
    "dc = {'Maçã': 20,'Banana': 10, 'Laranja': 15, 'Uva': 15}\n",
    "print(dc)"
   ]
  },
  {
   "cell_type": "code",
   "execution_count": 25,
   "metadata": {},
   "outputs": [
    {
     "data": {
      "text/plain": [
       "20"
      ]
     },
     "execution_count": 25,
     "metadata": {},
     "output_type": "execute_result"
    }
   ],
   "source": [
    "# retornar o valor de uma chave no dicionário\n",
    "dc['Maçã']"
   ]
  },
  {
   "cell_type": "code",
   "execution_count": 30,
   "metadata": {},
   "outputs": [
    {
     "name": "stdout",
     "output_type": "stream",
     "text": [
      "{'Maçã': 20, 'Banana': 10, 'Laranja': 15, 'Uva': 15}\n",
      "{'Maçã': 50, 'Banana': 10, 'Laranja': 15, 'Uva': 15}\n"
     ]
    }
   ],
   "source": [
    "# alterar o valor de uma chave\n",
    "print(dc)\n",
    "dc['Maçã'] = 50\n",
    "print(dc)"
   ]
  },
  {
   "cell_type": "code",
   "execution_count": 32,
   "metadata": {},
   "outputs": [
    {
     "data": {
      "text/plain": [
       "dict_keys(['Maçã', 'Banana', 'Laranja', 'Uva'])"
      ]
     },
     "execution_count": 32,
     "metadata": {},
     "output_type": "execute_result"
    }
   ],
   "source": [
    "# retornando todas as chaves de um dicionário\n",
    "dc.keys()"
   ]
  },
  {
   "cell_type": "code",
   "execution_count": 34,
   "metadata": {},
   "outputs": [
    {
     "data": {
      "text/plain": [
       "dict_values([50, 10, 15, 15])"
      ]
     },
     "execution_count": 34,
     "metadata": {},
     "output_type": "execute_result"
    }
   ],
   "source": [
    "# retornando os valores de um dicionário\n",
    "dc.values()"
   ]
  },
  {
   "cell_type": "code",
   "execution_count": 36,
   "metadata": {},
   "outputs": [
    {
     "data": {
      "text/plain": [
       "{'Maçã': 50, 'Banana': 10, 'Laranja': 15, 'Uva': 15, 'limão': 22}"
      ]
     },
     "execution_count": 36,
     "metadata": {},
     "output_type": "execute_result"
    }
   ],
   "source": [
    "# verificar se há uma chave em um dicionário. Caso não exista, ele irá adicioná-lo\n",
    "dc.setdefault('limão', 22)\n",
    "dc"
   ]
  }
 ],
 "metadata": {
  "kernelspec": {
   "display_name": "Python 3.10.6 64-bit",
   "language": "python",
   "name": "python3"
  },
  "language_info": {
   "codemirror_mode": {
    "name": "ipython",
    "version": 3
   },
   "file_extension": ".py",
   "mimetype": "text/x-python",
   "name": "python",
   "nbconvert_exporter": "python",
   "pygments_lexer": "ipython3",
   "version": "3.10.6"
  },
  "orig_nbformat": 4,
  "vscode": {
   "interpreter": {
    "hash": "91e32b75ecf3080d170411cb1649c483b59a4efe3288a5b0a9b6b201a0b09750"
   }
  }
 },
 "nbformat": 4,
 "nbformat_minor": 2
}
